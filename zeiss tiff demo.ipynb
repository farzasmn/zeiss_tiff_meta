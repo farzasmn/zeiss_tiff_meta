{
 "cells": [
  {
   "cell_type": "code",
   "execution_count": 2,
   "metadata": {},
   "outputs": [
    {
     "name": "stdout",
     "output_type": "stream",
     "text": [
      "['Detector', 'Store resolution', 'Stage at X', 'Stage at Y', 'Pixel Size', 'EHT', 'I Probe', 'Mag', 'WD', 'Beam Offset X', 'Beam Offset Y', 'Beam Shift Align X', 'Beam Shift Align Y', 'Stage at R', 'Stage at M', 'Stage at T', 'Stage at Z', 'Gun Vacuum', 'System Vacuum', '__filename']\n",
      "\n",
      "{'Store resolution': '1024 * 768', 'Detector': 'SE2', 'Mag': '2.00 K X', 'I Probe': 6.9e-10, 'Beam Offset Y': 0.0, 'Gun Vacuum': 8.76e-10, 'Beam Offset X': 0.0, 'Pixel Size': 5.5820000000000006e-08, 'Beam Shift Align Y': -1.495e-05, 'WD': 0.0077, 'System Vacuum': 9.67e-07, 'Beam Shift Align X': -3.0109999999999998e-05, 'Stage at M': 0.0, 'Stage at Z': 0.039591, 'Stage at Y': 0.0589383, 'Stage at X': 0.0654402, 'EHT': 8000.0, 'Stage at T': 0.0, 'Stage at R': 15.7, '__filename': 'test.tif', 'xpts': 1024, 'ypts': 768, 'width': 5.7159680000000006e-05, 'height': 4.2869760000000005e-05}\n",
      "\n",
      "{'OptiBeam Mode': 'Resolution', 'VP Aperture': False, 'BSD Autolevel Mode': 'Normal', 'Recipe': 'Idle', 'Signal B': 'SE2', 'BSD Fast': False, 'Opt.Aperture': 2, 'Track Z': False, 'EPSE Electrode': 'Ring', 'C3 Rot Corrn.': True, 'Fisheye Mode': False, 'Stage Tilt': 'in X', 'Argon Gun': 'Absent', 'Column Isolated': False, 'Mixing': False, 'Flood Gun Mode Target': 'Low Energy Mode', 'STEM Gain': 'Low', 'High Current': False, 'Dwell Time': 200, 'SmartImage Noise Reduction': False, 'Right Frozen': False, 'Flood Gun Blanked': False, 'Fast Mode': False, 'Compuc. Mode': False, 'Anode Aperture Changer': 'Absent', 'GIS Shutdown State': 'Normal', 'SmartFIB Command Status': 'Idle', 'FIB Column': 'None', 'Stage Tilted': False, 'FIB Suppressor is': 'Absent', 'VPSE detector': 'Absent', 'Crosshairs': False, 'Double Deflection State': 'Both On', 'WDX Gate Valve posn': 'OK', 'HE-SE2 Fitted': False, 'EP Gas': 'Air', 'Condenser Normal': 'Normal', 'Invert B': False, 'BSD Gain': 'High', 'FIB Gun Valve': 'Closed', 'Aperture': 'Clean', 'Electron Counting': False, 'Saturate at': 'Second peak', 'Stage Angle corrn.': True, 'Store resolution': '1024 * 768', 'Field Mode': False, 'CoolStage Type': 'Cold', 'Best Aperture': True, 'Flood Gun Actual Mode': 'Low Energy Mode', 'STEM Auto': False, 'Stage Initialised': True, 'GIS Channel with CC': 'None', 'Display': 0, 'Flood Gun Fitted': False, 'BSD Mode': 'User', 'FIB Mode': 'Imaging', 'Nano Tips': 'Absent', 'BSD Invert': False, 'MGS Evacuation State': False, 'Use End Point Detection': False, 'Mains Sync': 'Single Edge', 'FIB preparation for pneumatic': 'FIB ready for system vent', 'Mouse Adjust Disable': False, 'Image': 'Frozen', 'Filament Type': 'FE FEI', 'Autofocus Version': 'Line Scan based Autofocus Version', 'Sample Holder': 'Single Stub', 'High Resolution Mode': False, 'FIB Scan': 'Continuous', 'Beam Blanked': True, 'CC Type': 'None', 'BSD': 'Absent', 'Image saved': False, 'GIS Location': 'Unknown', 'Mag Range': 2, 'User Align': False, 'Zone': 0, 'Filament blown': False, 'Humidity Valve': 'Closed', 'FIB External Polarity': 0, 'Peltier Photo': False, 'Control': 'Signal A', 'Invert A': False, 'Remoting Target': 'Flood Gun Normal', 'Stage Is': 'Idle', 'FIB Present': False, 'Peltier Type': 'Deben', 'Signal A Z0': 'SE2', 'Freeze on': 'End Frame', 'FIB Blanked': False, 'Beam deceleration': False, 'EPSE Gain': 'Low', 'End Detection': False, 'Vac comms fail': False, 'BSD Auto Range': True, 'Pneumatic Device in use': 'None', 'FIB Wide View': False, 'Anode Spacer': 'High KV', 'Reference Mag': 'Polaroid 545', 'Beam sleeve': 'Out', 'User Calibration': False, 'Safe STEM Valid': False, 'S5': False, 'SCD Gain': 'Low', 'All Zones': False, 'Signal A': 'SE2', 'EHT tripped': False, 'Flood State': 'Idle', 'Extractor Trip': False, 'BSD Fast Scan': False, 'InlensDuo Mode': 'SE', 'Auto BC': False, 'Flood Gun Remoting Actual': 'Flood Gun Normal', 'Signal A Z1': 'InLens', 'Variable stage bias fitted': False, 'EPSE Auto Range': False, 'Stage comms fail': False, 'OptiProbe': False, 'C.L.S.Valve': 'Closed', 'New Filament': False, 'Image Detect': 'Black', 'Custom Holder': False, 'GIS Interlock status': 'Cartesian', 'Zoom': False, 'Deconvolution State': 'Idle', 'SCD Auto Range': True, 'Ext.Scan Control': False, 'Detector': 'SE2', 'EHT spurious reset': False, 'STEM Q4': False, 'Extractor Target State': False, 'Gemini large beam shift': False, 'Jazz Gain': 'Low', 'Monitor': '19/21 inch', 'Freeze': 'Active', 'FIB Extractor Conflict': False, 'Beam deceleration carousel': False, 'EPSE Bandwidth': 'DC', 'Stage bias low voltage': False, 'Stig Balance': False, 'GIS Interlock available': False, 'Frame Grabber': 'SVSEM', 'FIB Ext Scan Select': 'Ext 0', 'Beam sleeve fitted': False, 'VPSE-G3 Fitted': 'Absent', 'S1': False, 'FIB Lock Mags': False, 'Freeze Blanks': True, 'Windowing': False, 'Partial Vent on Standby': False, 'SCD Bandwidth': 'DC', 'Calibration': 'Disabled', 'STEM Q1': False, 'EHT Vac ready': True, 'Deconvolution expert mode': False, 'STEM Q5': False, 'Flood Gun Extractor Actual State': False, 'full service bakeout': False, 'Water OK': True, 'Low Mag': False, 'Venting inhibited': True, 'FIB Probe': 'Undefined', 'Display LUT mode': 'Normal', 'OptiBeam Is': False, 'S6': False, 'ScanGen Type': 'SVSEM', 'FIB Ext Scan Mode': False, 'Final Lens': '1500: Gemini', 'EHT Comms Fail': False, 'Scan Gen': 'Present', 'Num. Regions': 0, 'FIB Error': 'None', 'GIS Heating Status Channel 1': 'GIS Not Heating', 'BSD Bandwidth': 'DC', 'S2': False, 'Dyn.Focus': False, 'Supervisor': 'Enabled', 'Colour Mode': False, 'Tilt Corrn.': False, 'Spot': False, 'EP Aperture': 'None fitted', 'Noise reduction for fast scanspeeds': False, 'SESI Mode': 'SE', 'Fish-Eye Fitted': True, 'STEM Q2': False, 'Pix Size state': 'calibrated', 'Beam Blanker Mode': 'Auto', 'FIB Image Probe': 'Undefined', 'Argon Mill': False, 'FIB Mag Range': 0, 'User Level': 'Full', 'Argon Scan': False, 'Chamber Status': 'Power Up', 'Column': 'Merlin', 'Large Beam Shift': False, 'Argon MFC Valve': 'Closed', 'Contrast Enhanced': False, 'S3': False, 'Scan Rot': True, 'Sem drift status': 'No Reference', 'Line Scan': False, 'Use small crosshair': False, 'Tandem deceleration': False, 'Signal A Z2': 'InLens', 'SCM range': '3->10 pA', 'Flood Gun Type': 'Flood Gun Unknown Type', 'STEM Q3': False, 'Mag State': 'calibrated', 'Go to HV @ Shutdown': False, 'SCM Status': 'Valid', 'SI source-hidden': 0, 'OptiBeam conjugate': False, 'Flood Gun Status': False, 'VP Optibeam': False, 'Condenser Reversed': False, 'Zone 0': 'Frozen', 'FIB Milling Probe': 'Undefined', 'Scint.': True, 'OptiBeam Res Mode': 'manual', 'Jazz Bandwidth': 'Low', 'IGP Enabled': True, 'WDX Gate valve': 'Closed', 'Peltier': False, 'Output Reduction': 1, 'S4': False, 'Aperture No.': 1, 'Stage bias mode': 'contrast mode', 'Sem': 'Merlin', 'Scan Orthog': True, 'Channels': 1, 'Dual Monitor': False, 'Signal A Z3': 'InLens', 'C3 Rotn Sign': '+', 'STEM Fast': False, 'Output dev': '19/21 inch display', 'User': 'Idle', 'FIB Tracking WD': False, 'Flood Gun Interlock': False, 'Low KV Lens': 'Absent', 'Zone 1': 'Live', 'CC Status': False, 'FIB Gun State': False, 'Argon Gun is': False, 'Output To': 'Display/File', 'Column Chamber valve': 'Open', 'Column pumping': 'Ready', 'Scan Speed': 6, 'All Frozen': True, 'Input LUT Mode': 'Transparent', 'Operating Mode': 'Normal', 'GIS Channel': 'None', 'FIB Imaging': 'SEM', 'C3 Reversal': 'Normal', 'Vacuum Mode': 'High Vacuum', 'Column Mode': 'Analytic', 'STEM Seg. Mode': False, 'Cal Mode': False, 'Beam State': 'Beam On', 'Noise Reduction': 'Line Avg', 'OptiBeam': False, 'Vac Status': 'Ready', 'Flood Gun Emission target': 0.0, 'FIB Shift Correction Y': 0.0, 'Mag': '2.00 K X', 'Line Time': 14.08, 'FIB Mag fine gain Y': 0.0, 'Spot at Y': 192, 'Orthogonality Lower': 0.0, 'Aa 4': 0.0, 'Stage vector X': 0.0, 'Det BW Offset': 0, 'Argon Condenser': 0.0, 'Aperture value at FishEye X': 0.0, 'Min Mag': 30, 'Stage goto R': 15.7, 'ASAP DFE4 Minus5V Analogue': 0.0, 'VP Target': 10, 'EHT Cal@0.1KV': 100.0, 'Pa 7': 0.0, 'V 4': 0.0, 'Stage Delta R': 90.0, 'File No': 28497, 'ESD Lower Y': 0.0, 'Free WD': 0.0077, 'Brightness D': 49.3, 'Field Mode Quadriture': 1000, 'Tilt Angle': -16.2, 'Mill List Elapsed Time': 0, 'Stigmation X': -2.3, 'Pb 3': 0.0, 'Calibrate Mag Upper Y': 0.0, 'Da 2': 0.0, 'Reduced Raster Width': 512, 'VPSE Bias': 60.0, 'Stage low Z': 0.0, 'Argon Magnification': 0, 'Argon Shift Ratio Y': 0.0, 'Scan X cal.': 0, 'ASAP DFE2 Plus5V Analogue': 0.0, 'Stage high T': 70.0, 'Profile Top': 300, 'Mag Gain Cal X': 1003.0, 'H 8': 0.0, 'Spacer Thickness': 0.0, 'Stage high R': 380.0, 'FIB Condenser': 0.0, 'Flood Gun Filament Target': 0.0, 'Aperture Align X': -40.7, 'SEM Level @': 0.0, 'Vac Ready @': 5e-05, 'C1 Rem': 0.0105, 'Slice Width': 0.0, 'Beam Shift Y': 0.0, 'Pa 1': 0.0, 'Deconvolution Sigma': 0.0, 'Tilt Align X': 0.0, 'Stage X+M Rotation': 0.0, 'SmartImage Topography': 10.0, 'Stage at field Y': 1, 'Argon Column Angle': 0.0, 'ASAP DFE3 Temperature': 0.0, 'Test No.': 0, 'H 2': 0.0, 'Db 1': 0.0, 'Opt. Semi Angle': 0.0, 'FIB Aper.Align X': 0, 'FIB Fil I Target': 0.0, 'Drift Max.Pix.Error': 1, 'InlensDuo Grid is': 0.0, 'Fisheye Angle': 96.0, 'Mag Cal Y scale': 0.849, 'Contrast A': 25.9, 'Dual Mag Offset Y': 0.0, 'Mag scaling decel': 1.0, 'Shift Amp Upper Gain X': 0.0, 'Holder Length': 0.0, 'Stage fields Y': 10, 'FIB Source lifetime': 0.0, 'Argon Gas Flow is': 0.0, 'Gain A': 100.0, 'Beam Blanked Gun Pos Y': 100.0, 'Conjugate posn.': -0.164, 'Scan Offset Y': 0, 'Mag Shift Cal X': 0.0, 'Back Grid': 0.0, 'Suppressor V': 270.0, 'Pb 6': 0.0, 'V 9': 0.0, 'Profile 2 X2': 0, 'FIB Mag': 0, 'Flood Gun Emission Actual': 0.0, 'FIB Shift Correction X': 0.0, 'I Probe': 6.9e-10, 'FCF Tilt Angle': 0.0, 'FIB Mag fine gain X': 0.0, 'Stage X+M Angle': 8.0, 'Spot at X': 256, 'Orthogonality Upper': 0.0, 'Aa 3': 0.0, 'Stage goto Z': 0.024212, 'Argon Discharge I is': 0.0, 'Gun Value at FishEye mode Y': 0.0, 'Spot Size': 1, 'ASAP DFE3 Minus5V Analogue': 0.0, 'Pa 6': 0.0, 'V 3': 0.0, 'Stage Delta T': 0.0, 'Specimen Height': 0.003, 'ESD Lower X': 0.0, 'FIB Emission I': 0.0, 'FIB Stig Y Centre Y': 0.0, 'Brightness C': 49.3, 'Field Mode Orthog': -1.0, 'Tilt Axis': 90.0, 'Mill List Total Time': 0, 'Aperture Posn Y': 0.001, 'Pb 2': 0.0, 'Calibrate Mag Upper X': 0.0, 'Da 1': 0.0, 'EPSE Bias': 0.0, 'Profile width': 0.0, 'Stage low Y': 0.0, 'Argon Beam Shift Y': 0.0, 'Argon Shift Ratio X': 0.0, 'Xtalk21': 0.0, 'ASAP DFE1 Plus5V Analogue': 0.0, 'Min Extractor V': 3000.0, 'H 7': 0.0, 'Stage Centre Y': 0.064776, 'Beam I Monitor': 9e-06, 'FIB Scan Size': 0.0, 'Stig. Cal Y': 24.1, 'FIB Extractor': 0.0, 'Flood Gun Energy Actual': 0.0, 'FIB Stig X Centre Y': 0.0, 'Piezo Goto Y': 0.0, 'FIB Tilt Comp': 0.0, 'C1 Cal': 0.9942, 'Slice Y': 0.0, 'Beam Shift X': 0.0, 'Red.Raster Height': 287, 'Calibrate Mag Base': 50000.0, 'FIB Nudge Step': 0.0, 'Piezo Exchange Y': 0.0, 'Stage at field X': 1, 'Low Mag Focus': 1.0, 'Argon Acc I is': 0.0, 'Deconvolution Smoothening': 0.0, 'Argon Mill Progress': 0.0, 'ASAP DFE2 Temperature': 0.0, 'Area Fraction': 0.0, 'Nominal Fil I': 2.32, 'Gun at Y': -17.3, 'Stage Vector M': 0.0, 'H 1': 0.0, 'Semi Angle': 0.0, 'FIB Scan Rot': 0.0, 'FIB Fil Voltage': 0.0, 'Stage Angle': -134.9, 'InlensDuo Grid': 0.0, 'Fil I Target': 2.32, 'Mag Cal X scale': 0.826, 'Brightness B': 49.3, 'Dual Mag Offset X': 0.4, 'Shift Amp Lower Offset Y': 0.0, 'Holder Width': 0.0, 'SmartImage Sharpening': 10.0, 'Stage fields X': 10, 'FIB Probe Current Actual': 0.0, 'Argon Gas Flow': 0.0, 'Gamma': 1.0, 'Beam Blanked Gun Pos X': 100.0, 'Scan Offset X': 0, 'Front Grid': 0.0, 'Extractor V': 4360.0, 'ASAP VBE2 Minus5V Analogue': 0.0, 'Gun Align Y': 0.0, 'Max Extractor V': 5000.0, 'Pb 5': 0.0, 'V 8': 0.0, 'Profile 2 X1': 0, 'FIB Objective': 0.0, 'Flood Gun Extractor Voltage': 0.0, 'Piezo at Y': 0.0, 'Emission Zoom': 100, 'Zoom factor': 2.0, 'FIB Working Distance': 0.0, 'Line To Frame Lower': 0.0, 'Aa 2': 0.0, 'Stage goto Y': 0.05901, 'Beam sleeve Bias': 0.0, 'Argon Discharge is': 0.0, 'Mix Signal': 0.0, 'Gun Value at FishEye mode X': 0.0, 'CC Pressure': 0.0, 'ASAP DFE2 Minus5V Analogue': 0.0, 'Pa 5': 0.0, 'V 2': 0.0, 'Stage Delta Z': -0.005, 'ESD Upper Y': 0.0, 'FIB Abs Beam Shift Y': 0.0, 'FIB Suppressor': 0.0, 'FIB Stig Y Centre X': 0.0, 'Purge Min': 133, 'FIB Column Pressure': 0.0, 'Field Mode Angle': -1.0, 'C3 Rem': 0.0137, 'FIB Pixel Size': 0.0, 'Aperture Posn X': 0.005, 'Pb 1': 0.0, 'C3 saved for beam decel': 0.0, 'ESB Grid is': 0.0, 'EHT set maximum': 30000.0, 'Stage low X': 0.0, 'Argon Beam Shift X': 0.0, 'Argon XY Ratio': 0.0, 'Frame Ampl Cal.': 0, 'Xtalk12': 0.0, 'ASAP DFE4 Plus5V Digital': 0.0, 'Liner Target': 8000.0, 'H 6': 0.0, 'Stage Centre X': 0.064139, 'Stig. Cal X': 2.0, 'FIB Extr.Target': 0.0, 'Flood Gun Energy Target': 0.0, 'FIB Stig X Centre X': 0.0, 'Piezo Goto X': 0.0, 'C2 Lens I': 887.47, 'Mag Comp. Offset': 2085, 'Slice X': 0.0, 'Gun Tilt Y': 0.0, 'Red.Raster Width': 336, 'Scan Rotation Offset Lower': 0.0, 'Piezo Exchange X': 0.0, 'Stage goto field Y': 1, 'Argon Extractor is': 0.0, 'Auto C Target': 50.0, 'Offset B': 0.0, 'Align 1 Y': -13.8, 'Beam Offset Y': 0.0, 'White Threshold': 100.0, 'ASAP VBE2 Temperature': 0.0, 'Gun at X': 33.5, 'EO Temp Limit': 35.0, 'Spot X Cal': 0, 'FIB Beam Shift Y': 0.0, 'FIB Fil Current': 0.0, 'Scan Orth corrn': -0.4, 'EHT Target': 8000.0, 'Mag Cal Actual Height': 0.0, 'Brightness A': 50.0, 'Decl cal 2': 1.0, 'Shift Amp Lower Offset X': 0.0, 'Holder Diameter': 0.046, 'SmartImage Threshold': 0.5, 'Stage scan angle': 0.0, 'FIB Objective Actual': 0.0, 'Argon Objective is': 0.0, 'Line int. count': 1, 'Beam Blanked Aperture Pos Y': 100.0, 'Filament Age': 27930.57, 'Dual Mag Gain Y': 300.0, 'Stage vector T': 0.0, 'Peltier Temp': 20.0, 'ASAP VBE1 Minus5V Analogue': 0.0, 'Gun Align X': 0.0, 'EHT Cal@30KV': 30000.0, 'Pa 10': 0.0, 'V 7': 0.0, 'Profile 1 X2': 130, 'Stage bias Low Volts': 50.0, 'VP LaB6 Limit': 275, 'FIB EHT': 0.0, 'Humidity Target': 0.0, 'Piezo at X': 0.0, 'Line To Frame Upper': 0.0, 'Aa 1': 0.0, 'Reduced Raster Y': 192, 'Laser Illumination': 0.0, 'Stage goto X': 0.06517, 'Gun Vacuum': 8.76e-10, 'Argon Discharge': 0.0, 'Signal': 1.0, 'Line Avg.Count': 4, 'Beam Time': 1752.76, 'ASAP DFE1 Minus5V Analogue': 0.0, 'Cursor Height': 0.0, 'Profile Width 2': 0.0, 'Deconvolution Progress': 0.0, 'V 1': 0.0, 'Stage Delta Y': 0.0001, 'Probe Cal Factor': 1.0, 'ESD Upper X': 0.0, 'FIB Abs Beam Shift X': 0.0, 'FIB Drift Y': 0.0, 'Purge Max': 1066, 'FIB Heating Limit': 0.0, 'C3 Cal': 1.011, 'Line Counter': 0, 'Aperture Size': 2.9999999999999997e-05, 'Pa 4': 0.0, 'wd saved for beam decel': 0.01, 'Liner Cal @ 10KV': 10000.0, 'Beam Current': 7.999999999999999e-05, 'Stage high Z': 0.05, 'Convertor Voltage': 0.0, 'Argon Mag Factor': 0.0, 'Mag Z1': 1.0, 'ASAP DFE3 Plus5V Digital': 0.0, 'Suppressor V Target': 270.0, 'H 5': 0.0, 'Compu. Height': 0.001737, 'FIB Aperture Y Actual': 0, 'FIB Emission Target': 0.0, 'C1 Lens I': 654.82, 'Mag Comp. Amplitude': 40.0, 'Slice Index': 0, 'Gun Tilt X': 0.0, 'Red.Raster Posn Y': 87, 'Shift Amp Lower Gain Y': 0.0, 'Holder Height': 0.0187, 'Specimen Diameter': 0.01, 'Stage goto field X': 1, 'Argon Extractor': 0.0, 'Auto B Target': 50.0, 'Gain B': 100.0, 'Align 1 X': -7.4, 'Beam Offset X': 0.0, 'Black Threshold': 0.0, 'ASAP VBE1 Temperature': 0.0, 'Nominal extractor V': 4360.0, 'Aperture at Y': 0.0, 'Stage high M': 0.0, 'EO Temp': 0.0, 'User Max EHT': 30000.0, 'CCD Illum.': 77.0, 'FIB Beam Shift X': 0.0, 'Scan Rotation': 360.0, 'FIB Focus': 0.0, 'Fil I (Usermax)': 4.0, 'Mag Cal Actual Width': 0.0, 'Defect ID': 0, 'Line posn Y': 192, 'Decl cal 1': 0.0, 'Shift Amp Upper Offset Y': 0.0, 'SmartImage Contrast': 30.1, 'Stage vector Z': 0.0, 'BGPL': 0.01, 'Argon Objective': 0.0, 'Frames to Int.': 0, 'Beam Blanked Aperture Pos X': 100.0, 'Focus': 0.0077, 'Stage vector R': 0.0, 'ASAP VBE2 Plus5V Analogue': 0.0, 'EHT Cal@24KV': 24000.0, 'Pa 9': 0.0, 'V 6': 0.0, 'Profile 1 X1': 0, 'HRRU No.': 0, 'FIB EHT Target': 0.0, 'Humidity': 0.0, 'ESB Grid Max': 1500.0, 'Contrast D': 62.9, 'Mill Item Elapsed Time': 0, 'Beam deceleration Volts': 0.0, 'Calibrate Mag Lower Y': 0.0, 'Da 4': 0.0, 'FIB Condenser actual': 0.0, 'Argon Energy is': 0.0, 'Specimen I': -1.5730000000000002e-10, 'Photo No.': 26633, 'Field Overlap': 10.0, 'Spot signal': 127, 'ASAP DFE4 Plus5V Analogue': 0.0, 'Cursor Width': 0.0, 'Profile Width 1': 6.570000000000001e-08, 'H 10': 0.0, 'Stage Delta X': 0.0, 'Compu. Tilt Error': -0.1396, 'FIB Drift X': 0.0, 'Purge cycles': 2, 'C3 Lens I': 903.52, 'EPD Low Limit': 0, 'C2 Rem': 0.0318, 'Slice Angle': 0.0, 'Zoom Posn Y': 192, 'Pa 3': 0.0, 'Clip Limit': 0, 'Liner cal @ 100V': 100.0, 'Pixel Size': 5.5820000000000006e-08, 'Stage high Y': 0.13, 'Stage bias wobble amplitude': 10.0, 'Collector Voltage': 0.0, 'Argon Pixel Size': 0.0, 'Mag Z0': 1.0, 'Focus scan min': 0.001, 'ASAP DFE2 Plus5V Digital': 0.0, 'Extractor V Target': 4360.0, 'H 4': 0.0, 'Image Pixel Size': 5.5820000000000006e-08, 'FIB Aperture X Actual': 0, 'FIB Suppressor Actual': 0.0, 'Drift Max Tries': 10, 'Beam Shift Align Y': -1.495e-05, 'Brightness': 50.0, 'Fisheye quadriture': 1000, 'Gun Shift Y': 0.0, 'Red.Raster Posn X': 344, 'Shift Amp Lower Gain X': 0.0, 'Stage field size Y': 0.00037, 'Argon V Int is': 0.0, 'Contrast': 25.9, 'Video Delay': 0, 'Height': 4.2869999999999994e-05, 'ASAP DFE1 Temperature': 0.0, 'EHT Set minimum': 10.0, 'ASAP DFE4 Temperature': 0.0, 'Ext I Monitor': 0.0002585, 'Aperture at X': 0.0, 'Stage low M': 0.0, 'FCF Setting': 0.0, 'Db 4': 0.0, 'FIB Stig Y': 0.0, 'Frame Counter': 288279, 'Flood Gun Filament Actual': 0.0, 'EP Target': 10, 'WD': 0.0077, 'HSync delay': 1000.0, 'Cycle Time': 10.8, 'FIB Gun Pressure': 0.0, 'Line posn X': 0, 'Shift Amp Upper Offset X': 0.0, 'Compu. Tilt Offset': 0.0, 'Stage vector Y': 0.0, 'Argon Condenser is': 0.0, 'Frames to average': 51, 'Aperture value at FishEye Y': 0.0, 'Dual Mag Gain X': 204.0, 'Stage goto T': 0.0, 'ASAP VBE1 Plus5V Analogue': 0.0, 'Chamber': 0.0, 'EHT Cal@10KV': 10000.0, 'Pa 8': 0.0, 'V 5': 0.0, 'Stage Delta M': 0.0, 'Print No.': 0, 'ESD Excitation': 0.0, 'Peltier Target': 20.0, 'ESB Grid': 0.0, 'Contrast C': 62.9, 'Mill Item Total Time': 0, 'Stigmation Y': -20.4, 'Pb 4': 0.0, 'Calibrate Mag Lower X': 0.0, 'Da 3': 0.0, 'System Vacuum': 9.67e-07, 'Argon Energy': 0.0, 'Scan Y cal.': 0, 'ASAP DFE3 Plus5V Analogue': 0.0, 'Stage low T': -4.0, 'Mag Gain Cal Y': 1003.0, 'H 9': 0.0, 'Stage low R': -380.0, 'Aperture Align Y': 9.9, 'FIB SEM Angle': 54.0, 'EPD High Limit': 0, 'C2 Cal': 0.9852, 'Slice Height': 0.0, 'Zoom Posn X': 128, 'Pa 2': 0.0, 'Tilt Align Y': 0.0, 'FIB Min. Autoheat Current': 0.0, 'Chamber Pressure Detailed': 0.0, 'Stage high X': 0.13, 'Landing energy': 8000.0, 'Collector Bias': 300.0, 'Focus scan max': 0.04, 'ASAP DFE1 Plus5V Digital': 0.0, 'Test Val': 0.0, 'H 3': 0.0, 'Db 2': 0.0, 'FIB Aper.Align Y': 0, 'FIB Fil V target': 0.0, 'Drift Min Conf': 50.0, 'Beam Shift Align X': -3.0109999999999998e-05, 'Fisheye Orthog': 180.0, 'Gun Shift X': 0.0, 'Contrast B': 62.9, 'Focus Rotation comp.': -9.0, 'Shift Amp Upper Gain Y': 0.0, 'FIB Track WD Delta': 0.0, 'Stage field size X': -0.000494, 'Argon V Int': 0.0, 'Offset A': 0.0, 'Width': 5.7159999999999995e-05, 'ASAP MB Temperature': 0.0, 'Mag Shift Cal Y': 0.0, 'Pirani Pressure': 0.0, 'Liner Tube': 8000.0, 'Stage goto M': 0.0, 'Pb 7': 0.0, 'V 10': 0.0, 'Db 3': 0.0, 'Flood Gun Serial Number': 0, 'FIB Stig X': 0.0, 'Stage at M': 0.0, 'Stage at Z': 0.039591, 'Stage at Y': 0.0589383, 'Fil I': 2.32, 'Stage at X': 0.0654402, 'EHT': 8000.0, 'Stage at T': 0.0, 'Sample at Y': 0.0, 'Stage at R': 15.7, 'Sample at X': 0.0, 'Time': '11:41:13', 'Date': '10 Aug 2018', 'Group ID': '', 'Version': 'V06.03.00.00 : 15-Dec-17', 'Image Type': '', 'Serial No.': 'Merlin-61-56', 'User Text': '', 'Operator': '', 'User Name': 'SCHWARZBURG', 'File Name': 'test006.tif', 'Images': 'z:\\\\sem-user\\\\schwarzburg\\\\2018-08-10 stage position metadata\\\\', 'Sample ID': '', 'xpts': 1024, 'ypts': 768, 'width': 5.7159680000000006e-05, 'height': 4.2869760000000005e-05}\n"
     ]
    }
   ],
   "source": [
    "# this one needs the module 'tifffile' (pip install tifffile)\n",
    "import zeisstiffmeta as zm \n",
    "    \n",
    "\n",
    "src = 'test.tif'\n",
    "\n",
    "# extract the full metadata as defined by Zeiss:\n",
    "tab = zm.zeiss_meta(src)\n",
    "\n",
    "# translate into a dict and filter the meta using the zm.vip list\n",
    "print(zm.vip)\n",
    "m = zm.meta_to_dict(tab)\n",
    "\n",
    "# translate all into a dict\n",
    "mall = zm.meta_to_dict_all(tab)\n",
    "\n",
    "print('')\n",
    "print(m)\n",
    "\n",
    "print('')\n",
    "print(mall)\n",
    "\n"
   ]
  },
  {
   "cell_type": "code",
   "execution_count": 8,
   "metadata": {},
   "outputs": [
    {
     "data": {
      "text/plain": [
       "['Detector',\n",
       " 'Store resolution',\n",
       " 'Stage at X',\n",
       " 'Stage at Y',\n",
       " 'Pixel Size',\n",
       " 'EHT',\n",
       " 'I Probe',\n",
       " 'Mag',\n",
       " 'WD',\n",
       " 'Beam Offset X',\n",
       " 'Beam Offset Y',\n",
       " 'Beam Shift Align X',\n",
       " 'Beam Shift Align Y',\n",
       " 'Stage at R',\n",
       " 'Stage at M',\n",
       " 'Stage at T',\n",
       " 'Stage at Z',\n",
       " 'Gun Vacuum',\n",
       " 'System Vacuum',\n",
       " '__filename']"
      ]
     },
     "execution_count": 8,
     "metadata": {},
     "output_type": "execute_result"
    }
   ],
   "source": [
    "zm.vip\n",
    "\n"
   ]
  },
  {
   "cell_type": "code",
   "execution_count": null,
   "metadata": {},
   "outputs": [],
   "source": []
  }
 ],
 "metadata": {
  "kernelspec": {
   "display_name": "Python 3",
   "language": "python",
   "name": "python3"
  },
  "language_info": {
   "codemirror_mode": {
    "name": "ipython",
    "version": 3
   },
   "file_extension": ".py",
   "mimetype": "text/x-python",
   "name": "python",
   "nbconvert_exporter": "python",
   "pygments_lexer": "ipython3",
   "version": "3.6.6"
  }
 },
 "nbformat": 4,
 "nbformat_minor": 2
}
